{
  "nbformat": 4,
  "nbformat_minor": 0,
  "metadata": {
    "colab": {
      "provenance": [],
      "authorship_tag": "ABX9TyNVFHTYxIZ62oPr0b3rKKkq",
      "include_colab_link": true
    },
    "kernelspec": {
      "name": "python3",
      "display_name": "Python 3"
    },
    "language_info": {
      "name": "python"
    }
  },
  "cells": [
    {
      "cell_type": "markdown",
      "metadata": {
        "id": "view-in-github",
        "colab_type": "text"
      },
      "source": [
        "<a href=\"https://colab.research.google.com/github/EshwarChavan/Software-Engineering-lab/blob/main/SE_LAB_EXP_2.ipynb\" target=\"_parent\"><img src=\"https://colab.research.google.com/assets/colab-badge.svg\" alt=\"Open In Colab\"/></a>"
      ]
    },
    {
      "cell_type": "code",
      "execution_count": 2,
      "metadata": {
        "colab": {
          "base_uri": "https://localhost:8080/"
        },
        "id": "-59TptdqkasQ",
        "outputId": "d6c1b69f-c5a8-4328-d2c2-5acb2fb39d42"
      },
      "outputs": [
        {
          "output_type": "stream",
          "name": "stdout",
          "text": [
            "Hardcoded values: a = 1, b = 2\n"
          ]
        }
      ],
      "source": [
        "# Hardcoding Variables\n",
        "a = 1\n",
        "b = 2\n",
        "print(f\"Hardcoded values: a = {a}, b = {b}\")\n"
      ]
    },
    {
      "cell_type": "code",
      "source": [
        "# Keyboard Input\n",
        "name = input(\"Enter your name: \")\n",
        "age = int(input(\"Enter your age: \"))\n",
        "print(f\"Name: {name}, Age: {age}\")\n",
        "\n"
      ],
      "metadata": {
        "colab": {
          "base_uri": "https://localhost:8080/"
        },
        "id": "NlRvpd-9k-wQ",
        "outputId": "c2caa5f5-7a25-4914-8427-8d5cb0e2c4db"
      },
      "execution_count": 4,
      "outputs": [
        {
          "output_type": "stream",
          "name": "stdout",
          "text": [
            "Enter your name: Eshwar Deshmukh Chavan\n",
            "Enter your age: 19\n",
            "Name: Eshwar Deshmukh Chavan, Age: 19\n"
          ]
        }
      ]
    },
    {
      "cell_type": "code",
      "source": [
        "# Read From File (Single Input)\n",
        "file_path = 'single_input.txt'\n",
        "\n",
        "try:\n",
        "    with open(file_path, 'r') as file:\n",
        "        single_input = file.read()\n",
        "        print(f\"Single input from file: {single_input}\")\n",
        "except FileNotFoundError:\n",
        "    print(f\"Error: The file {file_path} does not exist.\")\n"
      ],
      "metadata": {
        "colab": {
          "base_uri": "https://localhost:8080/"
        },
        "id": "9N1W0b4GlPCl",
        "outputId": "83beac77-323f-463c-dc09-44f5c6916807"
      },
      "execution_count": 7,
      "outputs": [
        {
          "output_type": "stream",
          "name": "stdout",
          "text": [
            "Single input from file:  Name: Eshwar Deshmukh Chavan\n",
            "Roll no: HU22CSEN0100999\n",
            "course: Software engineering \n",
            "\n"
          ]
        }
      ]
    },
    {
      "cell_type": "code",
      "source": [
        "# Read From File (Multiple Inputs)\n",
        "file_path = 'multiple_inputs.txt'\n",
        "\n",
        "try:\n",
        "    with open(file_path, 'r') as file:\n",
        "        multiple_inputs = file.readlines()\n",
        "        for line in multiple_inputs:\n",
        "            print(f\"Input from file: {line.strip()}\")\n",
        "except FileNotFoundError:\n",
        "    print(f\"Error: The file {file_path} does not exist.\")\n"
      ],
      "metadata": {
        "colab": {
          "base_uri": "https://localhost:8080/"
        },
        "id": "ifljr5Gbmujx",
        "outputId": "aafa0b08-3789-4507-9534-9e5be08b2b9d"
      },
      "execution_count": 8,
      "outputs": [
        {
          "output_type": "stream",
          "name": "stdout",
          "text": [
            "Input from file: Software Engineering Lab Task 2\n",
            "Input from file: Name: Eshwar Deshmukh Chavan\n",
            "Input from file: Roll no: HU22CSEN0100999\n",
            "Input from file: course: Software engineering\n",
            "Input from file: lab task 4-12-2024\n"
          ]
        }
      ]
    },
    {
      "cell_type": "code",
      "source": [],
      "metadata": {
        "id": "awZmKvbEnoFM"
      },
      "execution_count": null,
      "outputs": []
    }
  ]
}