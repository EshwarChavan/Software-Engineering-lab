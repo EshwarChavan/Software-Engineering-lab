{
  "nbformat": 4,
  "nbformat_minor": 0,
  "metadata": {
    "colab": {
      "provenance": [],
      "authorship_tag": "ABX9TyMUUuDFufjxUGRnWrzuSZoK",
      "include_colab_link": true
    },
    "kernelspec": {
      "name": "python3",
      "display_name": "Python 3"
    },
    "language_info": {
      "name": "python"
    }
  },
  "cells": [
    {
      "cell_type": "markdown",
      "metadata": {
        "id": "view-in-github",
        "colab_type": "text"
      },
      "source": [
        "<a href=\"https://colab.research.google.com/github/EshwarChavan/Software-Engineering-lab/blob/main/SE_LAB_EXP_3.ipynb\" target=\"_parent\"><img src=\"https://colab.research.google.com/assets/colab-badge.svg\" alt=\"Open In Colab\"/></a>"
      ]
    },
    {
      "cell_type": "code",
      "execution_count": 3,
      "metadata": {
        "colab": {
          "base_uri": "https://localhost:8080/"
        },
        "id": "VKFP5FXlJfmX",
        "outputId": "b9b4b2c6-f59e-43f4-9909-b98e006c500e"
      },
      "outputs": [
        {
          "output_type": "stream",
          "name": "stdout",
          "text": [
            "Mounted at /content/drive\n"
          ]
        }
      ],
      "source": [
        "from google. colab import drive\n",
        "drive .mount('/content/drive')"
      ]
    },
    {
      "cell_type": "code",
      "source": [
        "# Define the quadratic function\n",
        "def calculate_temperature(a, b, c, time):\n",
        "    return a * (time ** 2) + b * time + c\n",
        "\n",
        "# Hardcoded variables\n",
        "a, b, c = 0.1, 2, 10\n",
        "time = 5\n",
        "\n",
        "# Calculate and display temperature\n",
        "temperature = calculate_temperature(a, b, c, time)\n",
        "print(f\"Temperature at time {time} hours with hardcoded variables: {temperature}\")\n"
      ],
      "metadata": {
        "colab": {
          "base_uri": "https://localhost:8080/"
        },
        "id": "uyaTh_srPR8u",
        "outputId": "a7e3c6ed-908e-4d4e-ae97-2cc27eb3dc5f"
      },
      "execution_count": 4,
      "outputs": [
        {
          "output_type": "stream",
          "name": "stdout",
          "text": [
            "Temperature at time 5 hours with hardcoded variables: 22.5\n"
          ]
        }
      ]
    },
    {
      "cell_type": "code",
      "source": [
        "# Accept coefficients from user input\n",
        "a = float(input(\"Enter coefficient a: \"))\n",
        "b = float(input(\"Enter coefficient b: \"))\n",
        "c = float(input(\"Enter coefficient c: \"))\n",
        "time = float(input(\"Enter time: \"))\n",
        "\n",
        "# Calculate and display temperature\n",
        "temperature = calculate_temperature(a, b, c, time)\n",
        "print(f\"Temperature at time {time} hours with keyboard input: {temperature}\")\n",
        "10"
      ],
      "metadata": {
        "colab": {
          "base_uri": "https://localhost:8080/"
        },
        "id": "i0vmjnElPlOo",
        "outputId": "c2813651-8810-42e4-a148-4ab9d8b63432"
      },
      "execution_count": 5,
      "outputs": [
        {
          "output_type": "stream",
          "name": "stdout",
          "text": [
            "Enter coefficient a: 0.1\n",
            "Enter coefficient b: 2\n",
            "Enter coefficient c: 10\n",
            "Enter time: 5\n",
            "Temperature at time 5.0 hours with keyboard input: 22.5\n"
          ]
        }
      ]
    },
    {
      "cell_type": "code",
      "source": [
        "# Function to read coefficients from a file\n",
        "def read_coefficients(filename):\n",
        "    try:\n",
        "        with open(filename, 'r') as file:\n",
        "            return map(float, file.read().strip().split(','))\n",
        "    except Exception as e:\n",
        "        print(f\"Error: {e}\")\n",
        "        return None\n",
        "\n",
        "# Read coefficients from file\n",
        "filename = '/content/drive/MyDrive/SE_LAB/single.txt'\n",
        "coefficients = read_coefficients(filename)\n",
        "\n",
        "if coefficients:\n",
        "    a, b, c, time = coefficients\n",
        "    print(f\"Coefficients read from file: a={a}, b={b}, c={c}, time={time}\")\n"
      ],
      "metadata": {
        "colab": {
          "base_uri": "https://localhost:8080/"
        },
        "id": "SZGruFJRaMar",
        "outputId": "4a3bbbd0-4d26-49ea-b4b3-1d8083a4dc40"
      },
      "execution_count": 11,
      "outputs": [
        {
          "output_type": "stream",
          "name": "stdout",
          "text": [
            "Coefficients read from file: a=0.1, b=2.0, c=10.0, time=5.0\n"
          ]
        }
      ]
    },
    {
      "cell_type": "code",
      "source": [
        "# Function to read coefficients from a file\n",
        "def read_coefficients(filename):\n",
        "    with open(filename, 'r') as file:\n",
        "        a, b, c, time = map(float, file.read().strip().split(','))\n",
        "    return a, b, c, time\n",
        "\n",
        "# Read coefficients from file\n",
        "a, b, c, time = read_coefficients('/content/drive/MyDrive/SE_LAB/single.txt')\n",
        "\n",
        "# Calculate and display temperature\n",
        "temperature = calculate_temperature(a, b, c, time)\n",
        "print(f\"Temperature at time {time} hours from single file input: {temperature}\")\n"
      ],
      "metadata": {
        "colab": {
          "base_uri": "https://localhost:8080/"
        },
        "id": "NiKTAOKUY03b",
        "outputId": "d26dce17-ed7c-46ce-c303-493100422bc1"
      },
      "execution_count": 8,
      "outputs": [
        {
          "output_type": "stream",
          "name": "stdout",
          "text": [
            "Temperature at time 5.0 hours from single file input: 22.5\n"
          ]
        }
      ]
    },
    {
      "cell_type": "code",
      "source": [
        "# Function to read multiple sets of coefficients from a file\n",
        "def read_multiple_coefficients(filename):\n",
        "    with open(filename, 'r') as file:\n",
        "        lines = file.readlines()\n",
        "    coefficients = [tuple(map(float, line.strip().split(','))) for line in lines]\n",
        "    return coefficients\n",
        "\n",
        "# Read multiple sets of coefficients from file\n",
        "coefficients = read_multiple_coefficients('/content/drive/MyDrive/SE_LAB/multiple.txt')\n",
        "\n",
        "# Calculate and display temperature for each set\n",
        "for a, b, c, time in coefficients:\n",
        "    temperature = calculate_temperature(a, b, c, time)\n",
        "    print(f\"Temperature at time {time} hours: {temperature}\")\n"
      ],
      "metadata": {
        "colab": {
          "base_uri": "https://localhost:8080/"
        },
        "id": "kvbISO76Zggp",
        "outputId": "3511dc09-5b24-4573-cdee-260cf507f2d8"
      },
      "execution_count": 9,
      "outputs": [
        {
          "output_type": "stream",
          "name": "stdout",
          "text": [
            "Temperature at time 5.0 hours: 22.5\n",
            "Temperature at time 6.0 hours: 40.2\n",
            "Temperature at time 7.0 hours: 62.7\n"
          ]
        }
      ]
    }
  ]
}